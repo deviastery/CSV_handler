{
 "cells": [
  {
   "cell_type": "markdown",
   "id": "9768ff11",
   "metadata": {},
   "source": [
    "# Курсовая работа\n",
    "## Выполнил студент группы БФИ2202 Тимшина Виктория Андреевна"
   ]
  },
  {
   "cell_type": "markdown",
   "id": "eb00c26d",
   "metadata": {},
   "source": [
    "Написать программу, которая будет считывать данные из CSV файла, содержащего\n",
    "информацию о продажах товаров в магазине. Данные в файле содержатся в следующем\n",
    "формате:\n",
    "| Номер заказа | Дата заказа | Название товара | Категория товара | Количество продаж | Цена\n",
    "за единицу | Общая стоимость |\n",
    "\n",
    "Необходимо:\n",
    "1. Рассчитать общую выручку магазина.\n",
    "2. Найти товар, который был продан наибольшее количество раз.\n",
    "3. Найти товар, который принес наибольшую выручку.\n",
    "4. Составить отчет, содержащий информацию об общей выручке магазина, количестве\n",
    "проданных единиц каждого товар и доле каждого товара в общей выручке.\n",
    "Для решения задач необходимо использовать структуры данных, такие как массивы и\n",
    "хеш-таблицы, а также различные алгоритмы обработки данных, например, сортировку и поиск.\n",
    "Также необходимо учитывать возможные ошибки ввода-вывода и обрабатывать их в\n",
    "соответствии с требованиями"
   ]
  },
  {
   "cell_type": "markdown",
   "id": "f78967f9",
   "metadata": {},
   "source": [
    "# Ход работы:"
   ]
  },
  {
   "cell_type": "markdown",
   "id": "ba71ab07",
   "metadata": {},
   "source": [
    "Подключение библиотек:"
   ]
  },
  {
   "cell_type": "code",
   "execution_count": 10,
   "id": "82c75980",
   "metadata": {},
   "outputs": [],
   "source": [
    "import pandas as pd\n",
    "import csv"
   ]
  },
  {
   "cell_type": "markdown",
   "id": "17589d6c",
   "metadata": {},
   "source": [
    "Класс хэш-таблицы:"
   ]
  },
  {
   "cell_type": "code",
   "execution_count": 12,
   "id": "a847fb64",
   "metadata": {},
   "outputs": [],
   "source": [
    "# Создаем класс узла списка\n",
    "class Node:\n",
    "    def __init__(self, key, value):\n",
    "        self.key = key\n",
    "        self.value = value\n",
    "        self.next = None\n",
    "\n",
    "# Создаем класс хэш-таблицы\n",
    "class HashTable:\n",
    "    def __init__(self):\n",
    "        self.capacity = 10 \n",
    "        self.size = 0 \n",
    "        self.buckets = [None] * self.capacity \n",
    "\n",
    "    # Метод добавления элемента в таблицу\n",
    "    def add(self, key, value):\n",
    "        index = hash(key) % self.capacity # хэш-индекс для ключа\n",
    "        node = self.buckets[index]\n",
    "        while node: \n",
    "            if node.key == key:\n",
    "                node.value = value\n",
    "                return\n",
    "            node = node.next\n",
    "        new_node = Node(key, value)\n",
    "        new_node.next = self.buckets[index]\n",
    "        self.buckets[index] = new_node\n",
    "        self.size += 1\n",
    "        if self.size > 0.7 * self.capacity:\n",
    "            self.resize()\n",
    "\n",
    "     # Метод получения значения по ключу\n",
    "    def get(self, key):\n",
    "        index = hash(key) % self.capacity\n",
    "        node = self.buckets[index]\n",
    "        while node:\n",
    "            if node.key == key: \n",
    "                return node.value\n",
    "            node = node.next\n",
    "        return None\n",
    "\n",
    "    # Метод изменения емкости таблицы\n",
    "    def resize(self):\n",
    "        new_capacity = self.capacity * 2\n",
    "        new_buckets = [None] * new_capacity\n",
    "        # перехешируем все элементы из старой таблицы в новую\n",
    "        for i in range(self.capacity):\n",
    "            node = self.buckets[i]\n",
    "            while node:\n",
    "                index = hash(node.key) % new_capacity\n",
    "                if new_buckets[index]:\n",
    "                    new_node = new_buckets[index]\n",
    "                    while new_node.next:\n",
    "                        new_node = new_node.next\n",
    "                    new_node.next = Node(node.key, node.value)\n",
    "                else:\n",
    "                    new_buckets[index] = Node(node.key, node.value)\n",
    "                node = node.next\n",
    "        self.capacity = new_capacity\n",
    "        self.buckets = new_buckets"
   ]
  },
  {
   "cell_type": "markdown",
   "id": "f540367d",
   "metadata": {},
   "source": [
    "Функция сортировки выбором:"
   ]
  },
  {
   "cell_type": "code",
   "execution_count": 13,
   "id": "91862367",
   "metadata": {},
   "outputs": [],
   "source": [
    "def selection_sort(arr):      \n",
    "\n",
    "    for i in range(len(arr)):\n",
    "        min = i\n",
    "        \n",
    "        for j in range(i + 1, len(arr)):\n",
    "            if arr[j] < arr[min]:\n",
    "                min = j\n",
    "\n",
    "        arr[min], arr[i] = arr[i], arr[min]\n",
    "            \n",
    "    return arr"
   ]
  },
  {
   "cell_type": "markdown",
   "id": "e4898d78",
   "metadata": {},
   "source": [
    "Функция для вычисления:\n",
    "- Общей выручки\n",
    "- Товара, который был продан наибольшее количество раз\n",
    "- Товара, который принес наибольшую выручку"
   ]
  },
  {
   "cell_type": "code",
   "execution_count": 5,
   "id": "45c0c87f",
   "metadata": {},
   "outputs": [],
   "source": [
    "def counting(file):\n",
    "    earnings_table = HashTable() # таблица доходов\n",
    "    sales_table = HashTable() # таблица продаж\n",
    "    \n",
    "    revenue = 0\n",
    "    count_max_sold_product = 0\n",
    "    max_sold_product = \"\"\n",
    "    max_revenue_product = \"\"\n",
    "    revenue_array = []\n",
    "\n",
    "    next(file)  # пропускаем первую строку с заголовками\n",
    "\n",
    "    for line in file:\n",
    "        revenue += int(line[6])\n",
    "\n",
    "        if count_max_sold_product < int(line[4]):\n",
    "            count_max_sold_product = int(line[4])\n",
    "            max_sold_product = line[2]\n",
    "            \n",
    "        revenue_array.append(int(line[6]))\n",
    "        sales_table.add(str(line[6]), line[2])\n",
    "        earnings_table.add(str(line[2]), line[4])\n",
    "        earnings_table.add(str(line[2]) + \"1\", line[6])\n",
    "\n",
    "    sorted_revenue = selection_sort(revenue_array)\n",
    "\n",
    "    max_revenue_product = sales_table.get(str(sorted_revenue[-1]))\n",
    "\n",
    "    return revenue, max_sold_product, max_revenue_product\n"
   ]
  },
  {
   "cell_type": "markdown",
   "id": "d7177870",
   "metadata": {},
   "source": [
    "Выведем результаты:"
   ]
  },
  {
   "cell_type": "code",
   "execution_count": 14,
   "id": "446c947a",
   "metadata": {},
   "outputs": [
    {
     "name": "stdout",
     "output_type": "stream",
     "text": [
      "Общая выручка магазина: 122625 рублей\n",
      "Товар, который был продан наибольшее количество раз: Картофель\n",
      "Товар, который принес наибольшую выручку: Яблоки\n"
     ]
    }
   ],
   "source": [
    "try:\n",
    "    with open(\"products.csv\", encoding='utf-8') as file:\n",
    "        \n",
    "        csv_file_reader = csv.reader(file, delimiter=\";\")\n",
    "        revenue, max_sold_product, max_revenue_product = counting(csv_file_reader)\n",
    "        \n",
    "        print(f'Общая выручка магазина: {revenue} рублей')\n",
    "        print(f'Товар, который был продан наибольшее количество раз: {max_sold_product}')\n",
    "        print(f'Товар, который принес наибольшую выручку: {max_revenue_product}')\n",
    "\n",
    "except:\n",
    "    print('Файл не найден')\n"
   ]
  },
  {
   "cell_type": "markdown",
   "id": "f5fa8d51",
   "metadata": {},
   "source": [
    "Доля выручки каждого товара от общей выручки:"
   ]
  },
  {
   "cell_type": "code",
   "execution_count": 15,
   "id": "0b4ea20d",
   "metadata": {},
   "outputs": [],
   "source": [
    "data = pd.read_csv('products.csv', sep=';')\n",
    "\n",
    "data['Доля от общей выручки в %'] = data['Общая стоимость'] / (revenue / 100)\n",
    "data['Доля от общей выручки в %'] = data['Доля от общей выручки в %'].round(2).astype(int)"
   ]
  },
  {
   "cell_type": "markdown",
   "id": "87656c06",
   "metadata": {},
   "source": [
    "Вывод таблицы:"
   ]
  },
  {
   "cell_type": "code",
   "execution_count": 16,
   "id": "c47c7849",
   "metadata": {},
   "outputs": [
    {
     "data": {
      "text/html": [
       "<table border=\"1\" class=\"dataframe\">\n",
       "  <thead>\n",
       "    <tr style=\"text-align: right;\">\n",
       "      <th style=\"background-color: lightblue; border: 1px solid black; color: darkblue;\">Название товара</th>\n",
       "      <th style=\"background-color: lightblue; border: 1px solid black; color: darkblue;\">Количество продаж</th>\n",
       "      <th style=\"background-color: lightblue; border: 1px solid black; color: darkblue;\">Общая стоимость</th>\n",
       "      <th style=\"background-color: lightblue; border: 1px solid black; color: darkblue;\">Доля от общей выручки в %</th>\n",
       "    <tr style=\"border: 1px solid black;\">\n",
       "  </thead>\n",
       "  <tbody>\n",
       "    <tr>\n",
       "      <td style=\"background-color: lightblue; border: 1px solid black; color: darkblue;\">Яблоки</td>\n",
       "      <td style=\"background-color: lightblue; border: 1px solid black; color: darkblue;\">500</td>\n",
       "      <td style=\"background-color: lightblue; border: 1px solid black; color: darkblue;\">25000</td>\n",
       "      <td style=\"background-color: lightblue; border: 1px solid black; color: darkblue;\">20</td>\n",
       "    <tr style=\"border: 1px solid black;\">\n",
       "    <tr>\n",
       "      <td style=\"background-color: lightblue; border: 1px solid black; color: darkblue;\">Апельсины</td>\n",
       "      <td style=\"background-color: lightblue; border: 1px solid black; color: darkblue;\">300</td>\n",
       "      <td style=\"background-color: lightblue; border: 1px solid black; color: darkblue;\">12000</td>\n",
       "      <td style=\"background-color: lightblue; border: 1px solid black; color: darkblue;\">9</td>\n",
       "    <tr style=\"border: 1px solid black;\">\n",
       "    <tr>\n",
       "      <td style=\"background-color: lightblue; border: 1px solid black; color: darkblue;\">Бананы</td>\n",
       "      <td style=\"background-color: lightblue; border: 1px solid black; color: darkblue;\">200</td>\n",
       "      <td style=\"background-color: lightblue; border: 1px solid black; color: darkblue;\">6000</td>\n",
       "      <td style=\"background-color: lightblue; border: 1px solid black; color: darkblue;\">4</td>\n",
       "    <tr style=\"border: 1px solid black;\">\n",
       "    <tr>\n",
       "      <td style=\"background-color: lightblue; border: 1px solid black; color: darkblue;\">Морковь</td>\n",
       "      <td style=\"background-color: lightblue; border: 1px solid black; color: darkblue;\">150</td>\n",
       "      <td style=\"background-color: lightblue; border: 1px solid black; color: darkblue;\">3000</td>\n",
       "      <td style=\"background-color: lightblue; border: 1px solid black; color: darkblue;\">2</td>\n",
       "    <tr style=\"border: 1px solid black;\">\n",
       "    <tr>\n",
       "      <td style=\"background-color: lightblue; border: 1px solid black; color: darkblue;\">Персики</td>\n",
       "      <td style=\"background-color: lightblue; border: 1px solid black; color: darkblue;\">100</td>\n",
       "      <td style=\"background-color: lightblue; border: 1px solid black; color: darkblue;\">6000</td>\n",
       "      <td style=\"background-color: lightblue; border: 1px solid black; color: darkblue;\">4</td>\n",
       "    <tr style=\"border: 1px solid black;\">\n",
       "    <tr>\n",
       "      <td style=\"background-color: lightblue; border: 1px solid black; color: darkblue;\">Огурцы</td>\n",
       "      <td style=\"background-color: lightblue; border: 1px solid black; color: darkblue;\">50</td>\n",
       "      <td style=\"background-color: lightblue; border: 1px solid black; color: darkblue;\">1250</td>\n",
       "      <td style=\"background-color: lightblue; border: 1px solid black; color: darkblue;\">1</td>\n",
       "    <tr style=\"border: 1px solid black;\">\n",
       "    <tr>\n",
       "      <td style=\"background-color: lightblue; border: 1px solid black; color: darkblue;\">Клубника</td>\n",
       "      <td style=\"background-color: lightblue; border: 1px solid black; color: darkblue;\">100</td>\n",
       "      <td style=\"background-color: lightblue; border: 1px solid black; color: darkblue;\">7000</td>\n",
       "      <td style=\"background-color: lightblue; border: 1px solid black; color: darkblue;\">5</td>\n",
       "    <tr style=\"border: 1px solid black;\">\n",
       "    <tr>\n",
       "      <td style=\"background-color: lightblue; border: 1px solid black; color: darkblue;\">Помидоры</td>\n",
       "      <td style=\"background-color: lightblue; border: 1px solid black; color: darkblue;\">75</td>\n",
       "      <td style=\"background-color: lightblue; border: 1px solid black; color: darkblue;\">2625</td>\n",
       "      <td style=\"background-color: lightblue; border: 1px solid black; color: darkblue;\">2</td>\n",
       "    <tr style=\"border: 1px solid black;\">\n",
       "    <tr>\n",
       "      <td style=\"background-color: lightblue; border: 1px solid black; color: darkblue;\">Арбузы</td>\n",
       "      <td style=\"background-color: lightblue; border: 1px solid black; color: darkblue;\">25</td>\n",
       "      <td style=\"background-color: lightblue; border: 1px solid black; color: darkblue;\">2000</td>\n",
       "      <td style=\"background-color: lightblue; border: 1px solid black; color: darkblue;\">1</td>\n",
       "    <tr style=\"border: 1px solid black;\">\n",
       "    <tr>\n",
       "      <td style=\"background-color: lightblue; border: 1px solid black; color: darkblue;\">Картофель</td>\n",
       "      <td style=\"background-color: lightblue; border: 1px solid black; color: darkblue;\">600</td>\n",
       "      <td style=\"background-color: lightblue; border: 1px solid black; color: darkblue;\">7500</td>\n",
       "      <td style=\"background-color: lightblue; border: 1px solid black; color: darkblue;\">6</td>\n",
       "    <tr style=\"border: 1px solid black;\">\n",
       "    <tr>\n",
       "      <td style=\"background-color: lightblue; border: 1px solid black; color: darkblue;\">Груши</td>\n",
       "      <td style=\"background-color: lightblue; border: 1px solid black; color: darkblue;\">150</td>\n",
       "      <td style=\"background-color: lightblue; border: 1px solid black; color: darkblue;\">8250</td>\n",
       "      <td style=\"background-color: lightblue; border: 1px solid black; color: darkblue;\">6</td>\n",
       "    <tr style=\"border: 1px solid black;\">\n",
       "    <tr>\n",
       "      <td style=\"background-color: lightblue; border: 1px solid black; color: darkblue;\">Свекла</td>\n",
       "      <td style=\"background-color: lightblue; border: 1px solid black; color: darkblue;\">80</td>\n",
       "      <td style=\"background-color: lightblue; border: 1px solid black; color: darkblue;\">2400</td>\n",
       "      <td style=\"background-color: lightblue; border: 1px solid black; color: darkblue;\">1</td>\n",
       "    <tr style=\"border: 1px solid black;\">\n",
       "    <tr>\n",
       "      <td style=\"background-color: lightblue; border: 1px solid black; color: darkblue;\">Апельсины</td>\n",
       "      <td style=\"background-color: lightblue; border: 1px solid black; color: darkblue;\">200</td>\n",
       "      <td style=\"background-color: lightblue; border: 1px solid black; color: darkblue;\">8000</td>\n",
       "      <td style=\"background-color: lightblue; border: 1px solid black; color: darkblue;\">6</td>\n",
       "    <tr style=\"border: 1px solid black;\">\n",
       "    <tr>\n",
       "      <td style=\"background-color: lightblue; border: 1px solid black; color: darkblue;\">Баклажаны</td>\n",
       "      <td style=\"background-color: lightblue; border: 1px solid black; color: darkblue;\">70</td>\n",
       "      <td style=\"background-color: lightblue; border: 1px solid black; color: darkblue;\">3150</td>\n",
       "      <td style=\"background-color: lightblue; border: 1px solid black; color: darkblue;\">2</td>\n",
       "    <tr style=\"border: 1px solid black;\">\n",
       "    <tr>\n",
       "      <td style=\"background-color: lightblue; border: 1px solid black; color: darkblue;\">Мандарины</td>\n",
       "      <td style=\"background-color: lightblue; border: 1px solid black; color: darkblue;\">120</td>\n",
       "      <td style=\"background-color: lightblue; border: 1px solid black; color: darkblue;\">6000</td>\n",
       "      <td style=\"background-color: lightblue; border: 1px solid black; color: darkblue;\">4</td>\n",
       "    <tr style=\"border: 1px solid black;\">\n",
       "    <tr>\n",
       "      <td style=\"background-color: lightblue; border: 1px solid black; color: darkblue;\">Кабачки</td>\n",
       "      <td style=\"background-color: lightblue; border: 1px solid black; color: darkblue;\">90</td>\n",
       "      <td style=\"background-color: lightblue; border: 1px solid black; color: darkblue;\">2700</td>\n",
       "      <td style=\"background-color: lightblue; border: 1px solid black; color: darkblue;\">2</td>\n",
       "    <tr style=\"border: 1px solid black;\">\n",
       "    <tr>\n",
       "      <td style=\"background-color: lightblue; border: 1px solid black; color: darkblue;\">Виноград</td>\n",
       "      <td style=\"background-color: lightblue; border: 1px solid black; color: darkblue;\">180</td>\n",
       "      <td style=\"background-color: lightblue; border: 1px solid black; color: darkblue;\">6300</td>\n",
       "      <td style=\"background-color: lightblue; border: 1px solid black; color: darkblue;\">5</td>\n",
       "    <tr style=\"border: 1px solid black;\">\n",
       "    <tr>\n",
       "      <td style=\"background-color: lightblue; border: 1px solid black; color: darkblue;\">Помидоры черри</td>\n",
       "      <td style=\"background-color: lightblue; border: 1px solid black; color: darkblue;\">60</td>\n",
       "      <td style=\"background-color: lightblue; border: 1px solid black; color: darkblue;\">2400</td>\n",
       "      <td style=\"background-color: lightblue; border: 1px solid black; color: darkblue;\">1</td>\n",
       "    <tr style=\"border: 1px solid black;\">\n",
       "    <tr>\n",
       "      <td style=\"background-color: lightblue; border: 1px solid black; color: darkblue;\">Яблоки зеленые</td>\n",
       "      <td style=\"background-color: lightblue; border: 1px solid black; color: darkblue;\">80</td>\n",
       "      <td style=\"background-color: lightblue; border: 1px solid black; color: darkblue;\">3600</td>\n",
       "      <td style=\"background-color: lightblue; border: 1px solid black; color: darkblue;\">2</td>\n",
       "    <tr style=\"border: 1px solid black;\">\n",
       "    <tr>\n",
       "      <td style=\"background-color: lightblue; border: 1px solid black; color: darkblue;\">Огурцы армянские</td>\n",
       "      <td style=\"background-color: lightblue; border: 1px solid black; color: darkblue;\">40</td>\n",
       "      <td style=\"background-color: lightblue; border: 1px solid black; color: darkblue;\">2200</td>\n",
       "      <td style=\"background-color: lightblue; border: 1px solid black; color: darkblue;\">1</td>\n",
       "    <tr style=\"border: 1px solid black;\">\n",
       "    <tr>\n",
       "      <td style=\"background-color: lightblue; border: 1px solid black; color: darkblue;\">Ананасы</td>\n",
       "      <td style=\"background-color: lightblue; border: 1px solid black; color: darkblue;\">70</td>\n",
       "      <td style=\"background-color: lightblue; border: 1px solid black; color: darkblue;\">5250</td>\n",
       "      <td style=\"background-color: lightblue; border: 1px solid black; color: darkblue;\">4</td>\n",
       "    <tr style=\"border: 1px solid black;\">\n",
       "  </tbody>\n",
       "</table>"
      ],
      "text/plain": [
       "<IPython.core.display.HTML object>"
      ]
     },
     "metadata": {},
     "output_type": "display_data"
    }
   ],
   "source": [
    "# Преобразуем таблицу в HTML\n",
    "html = data[['Название товара', 'Количество продаж', 'Общая стоимость', 'Доля от общей выручки в %']].to_html(index=False)\n",
    "\n",
    "# Добавляем стили\n",
    "html = html.replace('<table>', '<table style=\"background-color: blue; border: 1px solid black;\">')\n",
    "html = html.replace('<th>', '<th style=\"background-color: lightblue; border: 1px solid black; color: darkblue;\">')\n",
    "html = html.replace('<td>', '<td style=\"background-color: lightblue; border: 1px solid black; color: darkblue;\">')\n",
    "html = html.replace('</tr>', '<tr style=\"border: 1px solid black;\">')\n",
    "\n",
    "# Выводим таблицу\n",
    "from IPython.display import HTML\n",
    "display(HTML(html))"
   ]
  },
  {
   "cell_type": "markdown",
   "id": "ea295eb3",
   "metadata": {},
   "source": [
    "# Вывод:"
   ]
  },
  {
   "cell_type": "markdown",
   "id": "2fd9614d",
   "metadata": {},
   "source": [
    "Я разработала программу для анализа данных о продажах товаров в магазине из CSV-файла. Посчитала общую выручку, определила товар с наибольшим количеством продаж и товар, который принес наибольшую выручку. Составила отчет с общей выручкой, количеством проданных единиц каждого товара и их долей в общей выручке. "
   ]
  }
 ],
 "metadata": {
  "kernelspec": {
   "display_name": "Python 3 (ipykernel)",
   "language": "python",
   "name": "python3"
  },
  "language_info": {
   "codemirror_mode": {
    "name": "ipython",
    "version": 3
   },
   "file_extension": ".py",
   "mimetype": "text/x-python",
   "name": "python",
   "nbconvert_exporter": "python",
   "pygments_lexer": "ipython3",
   "version": "3.11.9"
  }
 },
 "nbformat": 4,
 "nbformat_minor": 5
}
